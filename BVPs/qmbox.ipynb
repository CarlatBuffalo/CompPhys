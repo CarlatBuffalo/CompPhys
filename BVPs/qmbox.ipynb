{
 "cells": [
  {
   "cell_type": "markdown",
   "metadata": {},
   "source": [
    "# Particle in a box\n",
    "\n",
    "\n",
    "We will now investigate a particle of mass $m$ and energy $E$ with wavefunction $\\psi$ in a box of length $L$ following the time-independent Schroedinger equation:\n",
    "\n",
    "$$\n",
    "\\frac{d^2\\psi}{dx^2} = -\\frac{2m}{\\hbar^2}\\left(E - V(x)\\right)\\psi(x)\n",
    "$$\n",
    "\n",
    "The potential is zero for $0 < x < 1$, and $\\infty$ otherwise. Imposing Dirichlet boundary conditions, the analytic solution is\n",
    "\n",
    "$$\n",
    "\\psi(x) = \\sqrt{\\frac{2}{L}}\\sin\\left(\\frac{n\\pi x}{L}\\right)\n",
    "$$\n",
    "\n",
    "with energy eigenvalue of\n",
    "\n",
    "$$\n",
    "E_n = \\frac{\\hbar^2 n^2 \\pi^2}{2m L^2}\n",
    "$$\n",
    "\n",
    "We will work in dimensionless units so that $\\hbar = 1$, $m = 1$, $L = 1$. \n",
    "\n",
    "The way we will solve this is to use a shooting method. We will\n",
    "\n",
    "- Impose the boundary condition at $x=0$.\n",
    "- Initialize the derivative of $\\psi$ to 1. \n",
    "- Initialize the energy to 5. \n",
    "- Propagate the dynamical system according to the Schroedinger equation.\n",
    "- Use a root-finding method to iterate to find the correct energy. "
   ]
  },
  {
   "cell_type": "code",
   "execution_count": 1,
   "metadata": {},
   "outputs": [],
   "source": [
    "import numpy as np\n",
    "import scipy.integrate\n",
    "import scipy.optimize\n",
    "import matplotlib.pyplot as plt\n",
    "from bvp import *"
   ]
  },
  {
   "cell_type": "code",
   "execution_count": 2,
   "metadata": {},
   "outputs": [],
   "source": [
    "\n",
    "class ParticleInBox :\n",
    "    def __init__( self, psiprime0 = 1.0 ) :\n",
    "        self.xbounds = np.array([0.,1.])\n",
    "        self.psibounds = np.array([0.,0.])\n",
    "        self.state = np.array( [0., psiprime0, 1.0] )\n",
    "        self.xvals = None\n",
    "        self.psivals = None\n",
    "        self.psiprimevals = None\n",
    "\n",
    "    def psiflow( self, x, state ) :\n",
    "        psi = state[0] ; psi_prime = state[1]; E = state[2]\n",
    "        dpsi_dx = psi_prime\n",
    "        d2psi_dx2 = -2*(E - self.V(x))*psi        \n",
    "        return [ dpsi_dx, d2psi_dx2, 1.0 ]\n",
    "        \n",
    "    def V(self, x):           # potential function\n",
    "        if x >= 0.0 and x <= 1.0:\n",
    "            return 0.0\n",
    "        else:\n",
    "            return 1.0e30\n",
    "\n",
    "    def shoot( self, E ) :\n",
    "        self.state = [ self.psibounds[0], psiprime0, E]\n",
    "        res = scipy.integrate.solve_ivp(fun=self.psiflow,\n",
    "                                        t_span=self.xbounds,\n",
    "                                        y0=self.state, \n",
    "                                        vectorized=True,\n",
    "                                        atol=1e-12,rtol=1e-11,\n",
    "                                        method='RK45', \n",
    "                                        max_step = (self.xbounds[1]-self.xbounds[0])/100)        \n",
    "        \n",
    "        self.xvals = res.t\n",
    "        self.psivals = res.y[0]\n",
    "        self.psiprimevals = res.y[1]\n",
    "        self.E = res.y[2]\n",
    "        self.state = [ self.psibounds[0], self.psiprimevals[-1], E ]        \n",
    "        return self.psivals[-1] - self.psibounds[1]        \n",
    "    \n",
    "    \n",
    "    def compute( self):\n",
    "        res = scipy.optimize.root_scalar( self.shoot, bracket=[0, 10] )\n",
    "        return res"
   ]
  },
  {
   "cell_type": "code",
   "execution_count": 3,
   "metadata": {},
   "outputs": [],
   "source": [
    "Evals = np.arange(0.,1.,0.1)\n",
    "p = ParticleInBox()\n",
    "res = p.compute()"
   ]
  },
  {
   "cell_type": "code",
   "execution_count": 4,
   "metadata": {},
   "outputs": [
    {
     "name": "stdout",
     "output_type": "stream",
     "text": [
      "      converged: True\n",
      "           flag: 'converged'\n",
      " function_calls: 11\n",
      "     iterations: 10\n",
      "           root: 4.432607855265195\n",
      "True energy     = 4.93\n",
      "Computed energy = 4.43\n"
     ]
    }
   ],
   "source": [
    "print(res)\n",
    "print(\"True energy     = %4.2f\" % (np.pi**2 * 0.5) )\n",
    "print(\"Computed energy = %4.2f\" % (res.root ))"
   ]
  },
  {
   "cell_type": "markdown",
   "metadata": {},
   "source": [
    "## Normalize the wavefunctions"
   ]
  },
  {
   "cell_type": "code",
   "execution_count": 5,
   "metadata": {},
   "outputs": [],
   "source": [
    "psiana = np.sin(np.pi * p.xvals)\n",
    "psiana = psiana / np.max(psiana)\n",
    "p.psivals = p.psivals / np.max(p.psivals)"
   ]
  },
  {
   "cell_type": "markdown",
   "metadata": {},
   "source": [
    "## Plot the wavefunctions"
   ]
  },
  {
   "cell_type": "code",
   "execution_count": 6,
   "metadata": {},
   "outputs": [
    {
     "data": {
      "text/plain": [
       "<matplotlib.legend.Legend at 0x7f2252613d50>"
      ]
     },
     "execution_count": 6,
     "metadata": {},
     "output_type": "execute_result"
    },
    {
     "data": {
      "image/png": "[encoded data removed]",
      "text/plain": [
       "<Figure size 432x288 with 1 Axes>"
      ]
     },
     "metadata": {
      "needs_background": "light"
     },
     "output_type": "display_data"
    }
   ],
   "source": [
    "plt.plot(p.xvals, psiana, label=\"analytic\")\n",
    "plt.plot(p.xvals, p.psivals, label=\"numeric\")\n",
    "\n",
    "plt.legend()"
   ]
  },
  {
   "cell_type": "code",
   "execution_count": null,
   "metadata": {},
   "outputs": [],
   "source": []
  },
  {
   "cell_type": "code",
   "execution_count": null,
   "metadata": {},
   "outputs": [],
   "source": []
  }
 ],
 "metadata": {
  "kernelspec": {
   "display_name": "Python 3",
   "language": "python",
   "name": "python3"
  },
  "language_info": {
   "codemirror_mode": {
    "name": "ipython",
    "version": 3
   },
   "file_extension": ".py",
   "mimetype": "text/x-python",
   "name": "python",
   "nbconvert_exporter": "python",
   "pygments_lexer": "ipython3",
   "version": "3.7.5rc1"
  }
 },
 "nbformat": 4,
 "nbformat_minor": 2
}
