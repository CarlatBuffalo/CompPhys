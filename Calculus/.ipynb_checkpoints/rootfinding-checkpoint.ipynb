{
 "cells": [
  {
   "cell_type": "markdown",
   "metadata": {},
   "source": [
    "# Finding roots\n",
    "\n",
    "Here we will demonstrate the usage of the various root-finding algorithms in [rootfinding.py](rootfinding.py). We will look at roots of the function \n",
    "\n",
    "$f(x) = e^x \\log(x) - x^2$.\n",
    "\n",
    "A plot is shown below. We will look for the root near $x=1.5$. \n",
    "\n",
    "We will animate the steps of the root-finding algorithms following the nice instructions [here](https://stackoverflow.com/questions/9401658/how-to-animate-a-scatter-plot). For demonstration, we will look at the \"simple\" and \"bisection\" algorithms. "
   ]
  },
  {
   "cell_type": "code",
   "execution_count": null,
   "metadata": {},
   "outputs": [],
   "source": [
    "import math\n",
    "import numpy as np\n",
    "import matplotlib.pyplot as plt\n",
    "from rootfinding import *"
   ]
  },
  {
   "cell_type": "markdown",
   "metadata": {},
   "source": [
    "## Define the function\n",
    "\n",
    "Draw it also within a range \"close\" to our root. "
   ]
  },
  {
   "cell_type": "code",
   "execution_count": null,
   "metadata": {},
   "outputs": [],
   "source": [
    "x1 = 1.0\n",
    "x2 = 2.0\n",
    "y1 = -1.0\n",
    "y2 = 1.0"
   ]
  },
  {
   "cell_type": "code",
   "execution_count": null,
   "metadata": {},
   "outputs": [],
   "source": [
    "def f ( x ) :\n",
    "    return np.exp(x) * np.log(x) - x * x"
   ]
  },
  {
   "cell_type": "code",
   "execution_count": null,
   "metadata": {
    "scrolled": true
   },
   "outputs": [],
   "source": [
    "xvals = np.linspace(x1,x2,1000)\n",
    "yvals = f(xvals)\n",
    "plt.plot(xvals,yvals)\n",
    "plt.xlabel(\"x\")\n",
    "plt.ylabel(\"exp(x)*log(x)-x^2\")\n",
    "plt.show()"
   ]
  },
  {
   "cell_type": "markdown",
   "metadata": {},
   "source": [
    "## Find the roots"
   ]
  },
  {
   "cell_type": "code",
   "execution_count": null,
   "metadata": {
    "scrolled": true
   },
   "outputs": [],
   "source": [
    "print(\" Algorithms for root of exp(x)*log(x) - x*x\")\n",
    "print(\" ------------------------------------------------\")\n",
    "\n",
    "print(\" 1. Simple search\")\n",
    "xmid = (x2+x1)*0.5\n",
    "dx = 0.01\n",
    "acc = 1e-5\n",
    "label1='simple'\n",
    "answer1,iterations1 = root_simple(f, xmid, dx, acc,1000,True)\n",
    "\n",
    "print(\" 2. Bisection search\")\n",
    "acc = 1e-5\n",
    "label2='bisection'\n",
    "answer2,iterations2 = root_bisection(f, x1, x2, acc,1000,True)\n"
   ]
  },
  {
   "cell_type": "markdown",
   "metadata": {},
   "source": [
    "## Make a class to animate the steps of the algorithm"
   ]
  },
  {
   "cell_type": "code",
   "execution_count": null,
   "metadata": {},
   "outputs": [],
   "source": [
    "from matplotlib import animation, rc\n",
    "from IPython.display import HTML\n",
    "rc('animation', html='html5')"
   ]
  },
  {
   "cell_type": "code",
   "execution_count": null,
   "metadata": {},
   "outputs": [],
   "source": [
    "class AnimatedScatter(object):\n",
    "    \"\"\"An animated scatter plot using matplotlib.animations.FuncAnimation.\"\"\"\n",
    "    def __init__(self, iterations, x1,y1, x2, y2, color,label, xplot, yplot):\n",
    "        self.iterations=iterations\n",
    "        self.numpoints = iterations.shape[0]\n",
    "        self.color=color\n",
    "        self.label=label\n",
    "        self.x1=x1\n",
    "        self.y1=y1\n",
    "        self.x2=x2\n",
    "        self.y2=y2\n",
    "        self.i = 0\n",
    "        self.xplot=xplot\n",
    "        self.yplot=yplot\n",
    "        \n",
    "        self.stream = self.data_stream()\n",
    "\n",
    "        # Setup the figure and axes...\n",
    "        self.fig, self.ax = plt.subplots()\n",
    "        #self.ax.set_title(\"Demonstration of root finding with \" + self.label)\n",
    "        # Then setup FuncAnimation.\n",
    "        self.ani = animation.FuncAnimation(self.fig, self.update, interval=200,\n",
    "                                           frames=25,\n",
    "                                           init_func=self.setup_plot, blit=False)\n",
    "\n",
    "    def setup_plot(self):\n",
    "        \"\"\"Initial drawing of the scatter plot.\"\"\"\n",
    "        x,y = next(self.stream)\n",
    "        self.plot = self.ax.plot(self.xplot,self.yplot)\n",
    "        self.plot2 = self.ax.plot( self.xplot, np.zeros_like(self.xplot))\n",
    "        self.scat = self.ax.scatter(x, y, c=np.full_like(x,self.color), vmin=0, vmax=10,\n",
    "                                    cmap=\"jet\", edgecolor=\"k\")\n",
    "        self.ax.axis([self.x1,self.x2,self.y1,self.y2])\n",
    "        \n",
    "        return self.scat,\n",
    "\n",
    "    def data_stream(self):\n",
    "        while True:\n",
    "            yield np.array( [self.iterations[self.i:self.i+1,0],self.iterations[self.i:self.i+1,1]] )\n",
    "\n",
    "    def update(self, i):\n",
    "        \"\"\"Update the scatter plot.\"\"\"\n",
    "        self.i = i\n",
    "        data = next(self.stream)        \n",
    "\n",
    "        # Set x and y data...\n",
    "        self.scat.set_offsets(data[0:2].T)\n",
    "\n",
    "        # We need to return the updated artist for FuncAnimation to draw..\n",
    "        # Note that it expects a sequence of artists, thus the trailing comma.\n",
    "        return self.scat,"
   ]
  },
  {
   "cell_type": "markdown",
   "metadata": {},
   "source": [
    "### First animate the \"simple\" root finder"
   ]
  },
  {
   "cell_type": "code",
   "execution_count": null,
   "metadata": {
    "scrolled": true
   },
   "outputs": [],
   "source": [
    "anim1 = AnimatedScatter(iterations=iterations1,x1=x1,x2=x2,y1=y1,y2=y2,\n",
    "                       color=1,label=label1,xplot=xvals,yplot=yvals)\n",
    "HTML(anim1.ani.to_html5_video())"
   ]
  },
  {
   "cell_type": "markdown",
   "metadata": {},
   "source": [
    "### Then animate the \"bisection\" root finder"
   ]
  },
  {
   "cell_type": "code",
   "execution_count": null,
   "metadata": {
    "scrolled": true
   },
   "outputs": [],
   "source": [
    "anim2 = AnimatedScatter(iterations=iterations2,x1=x1,x2=x2,y1=y1,y2=y2,\n",
    "                       color=2,label=label2,xplot=xvals,yplot=yvals)\n",
    "HTML(anim2.ani.to_html5_video())"
   ]
  }
 ],
 "metadata": {
  "kernelspec": {
   "display_name": "Python 3",
   "language": "python",
   "name": "python3"
  },
  "language_info": {
   "codemirror_mode": {
    "name": "ipython",
    "version": 3
   },
   "file_extension": ".py",
   "mimetype": "text/x-python",
   "name": "python",
   "nbconvert_exporter": "python",
   "pygments_lexer": "ipython3",
   "version": "3.7.5rc1"
  }
 },
 "nbformat": 4,
 "nbformat_minor": 2
}
