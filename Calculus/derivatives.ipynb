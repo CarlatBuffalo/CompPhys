{
 "cells": [
  {
   "cell_type": "markdown",
   "metadata": {},
   "source": [
    "# Calculating derivatives"
   ]
  },
  {
   "cell_type": "code",
   "execution_count": 1,
   "metadata": {},
   "outputs": [],
   "source": [
    "import math\n",
    "import numpy as np\n",
    "import matplotlib.pyplot as plt\n",
    "from derivatives import *"
   ]
  },
  {
   "cell_type": "code",
   "execution_count": 2,
   "metadata": {},
   "outputs": [],
   "source": [
    "# Make the plots a bit bigger to see\n",
    "# NOTE: Must be done in a separate cell\n",
    "plt.rcParams['figure.dpi'] = 100"
   ]
  },
  {
   "cell_type": "code",
   "execution_count": null,
   "metadata": {},
   "outputs": [],
   "source": []
  },
  {
   "cell_type": "markdown",
   "metadata": {},
   "source": [
    "## First investigate the Tableau from Ridders' method"
   ]
  },
  {
   "cell_type": "code",
   "execution_count": 3,
   "metadata": {},
   "outputs": [
    {
     "name": "stdout",
     "output_type": "stream",
     "text": [
      "------------ i =  0\n",
      "[[4.48176377 0.         0.         0.         0.        ]\n",
      " [0.         0.         0.         0.         0.        ]\n",
      " [0.         0.         0.         0.         0.        ]\n",
      " [0.         0.         0.         0.         0.        ]\n",
      " [0.         0.         0.         0.         0.        ]]\n",
      "------------ i =  1\n",
      "[[4.48172718 0.         0.         0.         0.        ]\n",
      " [0.         0.         0.         0.         0.        ]\n",
      " [0.         0.         0.         0.         0.        ]\n",
      " [0.         0.         0.         0.         0.        ]\n",
      " [0.         0.         0.         0.         0.        ]]\n",
      "------------ i =  2\n",
      "[[4.48172718 4.48170851 0.         0.         0.        ]\n",
      " [0.         4.48168907 0.         0.         0.        ]\n",
      " [0.         0.         0.         0.         0.        ]\n",
      " [0.         0.         0.         0.         0.        ]\n",
      " [0.         0.         0.         0.         0.        ]]\n",
      "------------ i =  3\n",
      "[[4.48172718 4.48170851 4.48169899 0.         0.        ]\n",
      " [0.         4.48168907 4.48168907 0.         0.        ]\n",
      " [0.         0.         4.48168907 0.         0.        ]\n",
      " [0.         0.         0.         0.         0.        ]\n",
      " [0.         0.         0.         0.         0.        ]]\n",
      "------------ i =  4\n",
      "[[4.48172718 4.48170851 4.48169899 4.48169413 0.        ]\n",
      " [0.         4.48168907 4.48168907 4.48168907 0.        ]\n",
      " [0.         0.         4.48168907 4.48168907 0.        ]\n",
      " [0.         0.         0.         4.48168907 0.        ]\n",
      " [0.         0.         0.         0.         0.        ]]\n"
     ]
    }
   ],
   "source": [
    "\n",
    "f = math.exp\n",
    "h = 0.01\n",
    "x = 1.5\n",
    "np.exp(x)\n",
    "der,error = derivative_ridders(f,x,h,n=5,verbose=True)"
   ]
  },
  {
   "cell_type": "markdown",
   "metadata": {},
   "source": [
    "## Now check the accuracy of the methods for a few functions"
   ]
  },
  {
   "cell_type": "code",
   "execution_count": 4,
   "metadata": {},
   "outputs": [],
   "source": [
    "def test_ridders_x2 ( x ) :\n",
    "    return x*x\n",
    "def actual_der_x2(x):\n",
    "    return 2*x"
   ]
  },
  {
   "cell_type": "code",
   "execution_count": 5,
   "metadata": {},
   "outputs": [
    {
     "name": "stdout",
     "output_type": "stream",
     "text": [
      "Testing algorithms for computing numeric derivatives\n",
      "------ x = 3,  expected error = h^4 = 1.00e-08\n",
      "D exp(3) = +2.008553692319e+01, ridders = +2.008553692319e+01, 5pt = +2.008553691649e+01 obs error = +2.4e-13\n",
      "D sin(3) = -9.899924966004e-01, ridders = -9.899924966005e-01, 5pt = -9.899924962704e-01 obs error = +1.4e-14\n",
      "D x^2(3) = +6.000000000000e+00, ridders = +6.000000000000e+00, 5pt = +6.000000000000e+00 obs error = +8.9e-16\n"
     ]
    }
   ],
   "source": [
    "print (\"Testing algorithms for computing numeric derivatives\")\n",
    "\n",
    "error = 0.0\n",
    "h = 0.01\n",
    "\n",
    "der_funcs = [\n",
    "    [np.exp, np.exp, \"exp\"],\n",
    "    [np.sin, np.cos, \"sin\"],\n",
    "    [test_ridders_x2, actual_der_x2, \"x^2\"]\n",
    "]\n",
    "\n",
    "x = 3.\n",
    "print(\"------ x = %1.0f,  expected error = h^4 = %5.2e\" %(x, h**4))    \n",
    "for dfunc,tfunc,name in der_funcs:\n",
    "    xprime,error =  derivative_ridders( dfunc, x, h )\n",
    "    xprime2 = derivative_fivepoint(dfunc,x,h)\n",
    "    print ('D {0:s}({1:1.0f}) = {2:+16.12e}, ridders = {3:+16.12e}, 5pt = {4:+16.12e} obs error = {5:+3.1e}'.format( name, x, tfunc(x), xprime, xprime2, error))\n"
   ]
  },
  {
   "cell_type": "code",
   "execution_count": null,
   "metadata": {},
   "outputs": [],
   "source": []
  }
 ],
 "metadata": {
  "kernelspec": {
   "display_name": "Python 3",
   "language": "python",
   "name": "python3"
  },
  "language_info": {
   "codemirror_mode": {
    "name": "ipython",
    "version": 3
   },
   "file_extension": ".py",
   "mimetype": "text/x-python",
   "name": "python",
   "nbconvert_exporter": "python",
   "pygments_lexer": "ipython3",
   "version": "3.7.4rc2"
  }
 },
 "nbformat": 4,
 "nbformat_minor": 2
}
