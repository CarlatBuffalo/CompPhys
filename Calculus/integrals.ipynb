{
 "cells": [
  {
   "cell_type": "markdown",
   "metadata": {},
   "source": [
    "# Calculating integrals"
   ]
  },
  {
   "cell_type": "code",
   "execution_count": 1,
   "metadata": {},
   "outputs": [],
   "source": [
    "import math\n",
    "import numpy as np\n",
    "import matplotlib.pyplot as plt\n",
    "from integrals import *"
   ]
  },
  {
   "cell_type": "markdown",
   "metadata": {},
   "source": [
    "## First investigate simple trapezoidal and Simpson's (quadratic) summations for quadrature"
   ]
  },
  {
   "cell_type": "code",
   "execution_count": 2,
   "metadata": {},
   "outputs": [
    {
     "name": "stdout",
     "output_type": "stream",
     "text": [
      "Trapezoidal rule = 1.9935703437723395\n",
      "Simpsons rule = 2.0000165910479355\n"
     ]
    }
   ],
   "source": [
    "n1 = 16 # Number of divisions for trapezoidal rule\n",
    "\n",
    "a = 0\n",
    "b = np.pi\n",
    "ans1 = trapezoid(np.sin, a, b, n1)\n",
    "print ('Trapezoidal rule = ' + str(ans1))\n",
    "\n",
    "ans2 = simpson(np.sin, a, b, n1)\n",
    "print ('Simpsons rule = ' + str(ans2))"
   ]
  },
  {
   "cell_type": "markdown",
   "metadata": {},
   "source": [
    "## Next investigate the adaptive trapezoidal quadrature"
   ]
  },
  {
   "cell_type": "code",
   "execution_count": 3,
   "metadata": {},
   "outputs": [
    {
     "name": "stdout",
     "output_type": "stream",
     "text": [
      "N = 2,  Integral = 1.9236706937217898e-16\n",
      "N = 2.0,  Integral = 1.5707963267948966\n",
      "N = 4.0,  Integral = 1.8961188979370398\n",
      "N = 8.0,  Integral = 1.9742316019455508\n",
      "N = 16.0,  Integral = 1.993570343772339\n",
      "N = 32.0,  Integral = 1.9983933609701445\n",
      "N = 64.0,  Integral = 1.9995983886400377\n",
      "N = 128.0,  Integral = 1.9998996001842024\n",
      "N = 256.0,  Integral = 1.999974900235053\n",
      "Adaptive trapezoidal rule = 1.999974900235053\n"
     ]
    }
   ],
   "source": [
    "\n",
    "ans3 = adaptive_trapezoid(np.sin, a, b, 0.0001, output=True)\n",
    "print ('Adaptive trapezoidal rule = ' + str(ans3))\n",
    "\n"
   ]
  },
  {
   "cell_type": "code",
   "execution_count": 5,
   "metadata": {},
   "outputs": [
    {
     "name": "stdout",
     "output_type": "stream",
     "text": [
      "Trapezoidal rule = 1.4223717467867303\n",
      "------\n",
      "N = 2,  Integral = -0.3028310299355179\n",
      "N = 2.0,  Integral = 0.776875073279176\n",
      "N = 4.0,  Integral = 1.4561787490696738\n",
      "N = 8.0,  Integral = 1.587549845113787\n",
      "N = 16.0,  Integral = 1.4223717467867303\n",
      "N = 32.0,  Integral = 1.5257773887950767\n",
      "N = 64.0,  Integral = 1.512759812696617\n",
      "N = 128.0,  Integral = 1.5245180489108312\n",
      "N = 256.0,  Integral = 1.5752569616593974\n",
      "N = 512.0,  Integral = 1.5662241907903698\n",
      "N = 1024.0,  Integral = 1.5828359085876724\n",
      "N = 2048.0,  Integral = 1.5744877401036073\n",
      "N = 4096.0,  Integral = 1.5745273609341304\n",
      "Adaptive trapezoidal rule = 1.5745273609341304\n"
     ]
    }
   ],
   "source": [
    "### correct answer is 1.57585\n",
    "a = 0.01\n",
    "b = np.pi\n",
    "ans4 = trapezoid(lambda x : np.sin(1/x), a, b, n1)\n",
    "print ('Trapezoidal rule = ' + str(ans4))\n",
    "print(\"------\")\n",
    "ans5 = adaptive_trapezoid( lambda x : np.sin(1/x), a, b, 0.0001, output=True)\n",
    "print ('Adaptive trapezoidal rule = ' + str(ans5))\n"
   ]
  },
  {
   "cell_type": "code",
   "execution_count": null,
   "metadata": {},
   "outputs": [],
   "source": []
  },
  {
   "cell_type": "code",
   "execution_count": null,
   "metadata": {},
   "outputs": [],
   "source": []
  },
  {
   "cell_type": "code",
   "execution_count": null,
   "metadata": {},
   "outputs": [],
   "source": []
  },
  {
   "cell_type": "code",
   "execution_count": null,
   "metadata": {},
   "outputs": [],
   "source": []
  }
 ],
 "metadata": {
  "kernelspec": {
   "display_name": "Python 3",
   "language": "python",
   "name": "python3"
  },
  "language_info": {
   "codemirror_mode": {
    "name": "ipython",
    "version": 3
   },
   "file_extension": ".py",
   "mimetype": "text/x-python",
   "name": "python",
   "nbconvert_exporter": "python",
   "pygments_lexer": "ipython3",
   "version": "3.7.4rc2"
  }
 },
 "nbformat": 4,
 "nbformat_minor": 2
}
