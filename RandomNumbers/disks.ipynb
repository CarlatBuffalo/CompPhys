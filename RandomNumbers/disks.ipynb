{
 "cells": [
  {
   "cell_type": "markdown",
   "metadata": {},
   "source": [
    "# 2-d Hard Disk Gas\n",
    "\n",
    "Here we will investigate the first application of the Metropolis algorithm \n",
    "\n",
    "\n",
    "[Equation of State Calculations by Fast Computing Machines](https://aip.scitation.org/doi/10.1063/1.1699114) J. Chem. Phys. 21, 1087 (1953). \n",
    "\n",
    "This is somewhat simpler than the probabilistic one we just looked at because the \"hard disk\" just means the walker's probability is 0% if the proposed step overlaps with another disk, and 100% otherwise. "
   ]
  },
  {
   "cell_type": "code",
   "execution_count": null,
   "metadata": {},
   "outputs": [],
   "source": [
    "import math\n",
    "import numpy as np\n",
    "import matplotlib.pyplot as plt\n",
    "import itertools"
   ]
  },
  {
   "cell_type": "code",
   "execution_count": null,
   "metadata": {},
   "outputs": [],
   "source": [
    "'''\n",
    "Disks: this will hold N disks in a 2-dimensional plane.\n",
    "It has a function \"update\" to perform a MC trial step. \n",
    "If \"overlaps\" is satisfied (i.e. the disks at the new position\n",
    "do not overlap with other disks) then the trials are accepted. \n",
    "\n",
    "This is performed in a vectorized format. \n",
    "'''\n",
    "class Disks:\n",
    "\n",
    "    def __init__(self, N, d0, alpha):\n",
    "        self.N = N\n",
    "        self.d0 = d0\n",
    "        self.alpha = alpha\n",
    "        self.pos = np.zeros((N,2))\n",
    "        self.apply_pbcs()\n",
    "\n",
    "    '''\n",
    "    apply_pbcs: this applies periodic boundary conditions\n",
    "    '''\n",
    "    def apply_pbcs(self):\n",
    "        self.pos = self.pos % 1.0            \n",
    "            \n",
    "    '''\n",
    "    overlaps: check for overlaps between the disks\n",
    "    '''\n",
    "    def overlaps(self, pos1, pos2):        \n",
    "        delta = pos1 - pos2\n",
    "        delta = np.where( np.abs(delta) > 0.5, delta * 1-1/np.abs(delta), delta)        \n",
    "        return np.linalg.norm(self.pos, axis=1) < self.d0\n",
    "\n",
    "    '''\n",
    "    update : make a MC trial position. Check where it would overlap with\n",
    "    another disk. If there are no overlaps, use the trial as the new position. \n",
    "    '''\n",
    "    def update(self):\n",
    "        pos_try = self.pos + self.alpha * np.random.uniform(-1,1, size=self.pos.shape)\n",
    "        pos_try_overlaps = self.overlaps( pos_try, self.pos)        \n",
    "        self.pos[:,0] = np.where( pos_try_overlaps, self.pos[:,0], pos_try[:,0] )\n",
    "        self.pos[:,1] = np.where( pos_try_overlaps, self.pos[:,1], pos_try[:,1] )\n",
    "        self.apply_pbcs()        \n",
    "        return np.sum( pos_try_overlaps )\n",
    "    \n",
    "    \n",
    "'''\n",
    "System: keeps track of the disks,\n",
    "runs the MC steps, and keeps a histogram\n",
    "of the disk-to-disk distances as they change\n",
    "over time. This is used to derive the equation\n",
    "of state. \n",
    "'''    \n",
    "class System:\n",
    "\n",
    "    def __init__(self, nu=0, K=1.5, rows=16, cols=16, N_bins=64):\n",
    "        # Initialize all of the constants\n",
    "        d = 1.0 / float(cols)        \n",
    "        self.d0 = d * (1 - 2**(nu-8.0))        # Center-to-center distance between circles\n",
    "        self.K = K                             # Kinetic energy\n",
    "        self.alpha = d - self.d0               # Leftover space between circles\n",
    "        self.N=rows*cols                       # Total number of circles\n",
    "        self.rows=rows                         # Number of rows\n",
    "        self.cols=cols                         #    and columns\n",
    "        self.N_bins = N_bins                   # Number of bins for the histogram\n",
    "        self.DeltaA2 = (self.K**2 - 1) * np.pi * self.d0**2 / float(self.N_bins)\n",
    "        self.disks = Disks(self.N, self.d0, self.alpha)\n",
    "        dx = d\n",
    "        dy = d * np.sqrt(3.0) / 2.0        \n",
    "        i = np.arange(rows)\n",
    "        j = np.arange(cols)\n",
    "        iv,jv = np.meshgrid(i,j)\n",
    "        self.iv = iv\n",
    "        self.jv = jv\n",
    "        self.N_array = np.arange(self.N)\n",
    "        # Keep a list of the combinations for later use\n",
    "        self.i0, self.i1 = np.meshgrid(self.N_array, self.N_array)\n",
    "        # Initialize to positions staggered by a half a column for each row\n",
    "        self.disks.pos[:,0] = (iv * dx + jv % 2 * dx / 2).reshape( self.N )\n",
    "        self.disks.pos[:,1] = (jv * dy).reshape( self.N ) \n",
    "        self.rvals = np.zeros(0)\n",
    "        self.fitvals = np.zeros(0)\n",
    "\n",
    "    def update(self):\n",
    "        accepts = self.disks.update()\n",
    "        self.pair_histogram()\n",
    "\n",
    "    def pair_histogram(self):           \n",
    "        xv = self.disks.pos[:,0].flatten()\n",
    "        yv = self.disks.pos[:,1].flatten()\n",
    "        dx = xv.flatten()[self.i0] - xv.flatten()[self.i1]\n",
    "        dy = yv.flatten()[self.i0] - yv.flatten()[self.i1]        \n",
    "        delta_ij = dx**2 + dy**2\n",
    "        fitval = (delta_ij - self.d0**2) * np.pi / self.DeltaA2\n",
    "        self.rvals = np.concatenate( (self.rvals, delta_ij.flatten()) )\n",
    "        self.fitvals = np.concatenate( (self.fitvals, fitval.flatten()) )"
   ]
  },
  {
   "cell_type": "markdown",
   "metadata": {},
   "source": [
    "## Initialize the simulation\n",
    "\n",
    "Also show the initial positions. "
   ]
  },
  {
   "cell_type": "code",
   "execution_count": null,
   "metadata": {},
   "outputs": [],
   "source": [
    "nu = 5\n",
    "system = System(nu, rows=16, cols=16)\n",
    "plt.scatter( system.disks.pos[:,0], system.disks.pos[:,1])\n",
    "plt.show()"
   ]
  },
  {
   "cell_type": "code",
   "execution_count": null,
   "metadata": {},
   "outputs": [],
   "source": []
  },
  {
   "cell_type": "code",
   "execution_count": null,
   "metadata": {},
   "outputs": [],
   "source": [
    "from matplotlib import animation, rc\n",
    "from IPython.display import HTML\n",
    "rc('animation', html='html5')"
   ]
  },
  {
   "cell_type": "markdown",
   "metadata": {},
   "source": [
    "## Make a histogram of the $r$ values"
   ]
  },
  {
   "cell_type": "code",
   "execution_count": null,
   "metadata": {
    "scrolled": true
   },
   "outputs": [],
   "source": [
    "for i in range(100):\n",
    "    system.update()\n",
    "    \n",
    "res = plt.hist(system.fitvals.flatten(), bins=system.N_bins)\n",
    "plt.show()"
   ]
  },
  {
   "cell_type": "markdown",
   "metadata": {},
   "source": [
    "## Make an animator with a newly initialized system"
   ]
  },
  {
   "cell_type": "code",
   "execution_count": null,
   "metadata": {},
   "outputs": [],
   "source": [
    "system2 = System(nu, rows=16, cols=16)"
   ]
  },
  {
   "cell_type": "markdown",
   "metadata": {},
   "source": [
    "## Make an animator"
   ]
  },
  {
   "cell_type": "code",
   "execution_count": null,
   "metadata": {},
   "outputs": [],
   "source": [
    "class AnimatedScatter(object):\n",
    "    \"\"\"An animated scatter plot using matplotlib.animations.FuncAnimation.\"\"\"\n",
    "    def __init__(self, system):\n",
    "        self.system = system\n",
    "        self.stream = self.data_stream()\n",
    "\n",
    "        # Setup the figure and axes...\n",
    "        self.fig, self.ax = plt.subplots()\n",
    "        # Then setup FuncAnimation.\n",
    "        self.ani = animation.FuncAnimation(self.fig, self.update, interval=50, frames=300,\n",
    "                                          init_func=self.setup_plot, blit=False)\n",
    "\n",
    "    def setup_plot(self):\n",
    "        \"\"\"Initial drawing of the scatter plot.\"\"\"\n",
    "        x, y = next(self.stream).T\n",
    "        \n",
    "        # Calculate the radius of the disks in points\n",
    "        # Using this: https://stackoverflow.com/questions/48172928/scale-matplotlib-pyplot-axes-scatter-markersize-by-x-scale/48174228#48174228\n",
    "        s = ((self.ax.get_window_extent().width  * (self.system.d0/2) * 100./self.fig.dpi) ** 2)\n",
    "        self.scat = self.ax.scatter(x, y, s=s, facecolors='none', edgecolors='r' )\n",
    "        self.ax.axis([0, 1, 0, 1])\n",
    "        # For FuncAnimation's sake, we need to return the artist we'll be using\n",
    "        # Note that it expects a sequence of artists, thus the trailing comma.\n",
    "        return self.scat,\n",
    "\n",
    "    def data_stream(self):\n",
    "        \"\"\"Generate a random walk (brownian motion). Data is scaled to produce\n",
    "        a soft \"flickering\" effect.\"\"\"\n",
    "        \n",
    "        while True:\n",
    "            self.system.update()\n",
    "            yield np.c_ [self.system.disks.pos[:,0], self.system.disks.pos[:,1]]\n",
    "\n",
    "    def update(self, i):\n",
    "        \"\"\"Update the scatter plot.\"\"\"\n",
    "        data = next(self.stream)\n",
    "\n",
    "        # Set x and y data...\n",
    "        self.scat.set_offsets(data[:, :2])\n",
    "        # Set sizes...\n",
    "        #self.scat.set_sizes(300 * abs(data[:, 2])**1.5 + 100)\n",
    "        # Set colors..\n",
    "        #self.scat.set_array(data[:, 3])\n",
    "\n",
    "        # We need to return the updated artist for FuncAnimation to draw..\n",
    "        # Note that it expects a sequence of artists, thus the trailing comma.\n",
    "        return self.scat,\n"
   ]
  },
  {
   "cell_type": "markdown",
   "metadata": {},
   "source": [
    "## Run and animate"
   ]
  },
  {
   "cell_type": "code",
   "execution_count": null,
   "metadata": {},
   "outputs": [],
   "source": [
    "\n",
    "a = AnimatedScatter(system=system2)\n",
    "HTML(a.ani.to_html5_video())"
   ]
  },
  {
   "cell_type": "code",
   "execution_count": null,
   "metadata": {},
   "outputs": [],
   "source": []
  }
 ],
 "metadata": {
  "kernelspec": {
   "display_name": "Python 3",
   "language": "python",
   "name": "python3"
  },
  "language_info": {
   "codemirror_mode": {
    "name": "ipython",
    "version": 3
   },
   "file_extension": ".py",
   "mimetype": "text/x-python",
   "name": "python",
   "nbconvert_exporter": "python",
   "pygments_lexer": "ipython3",
   "version": "3.7.5rc1"
  }
 },
 "nbformat": 4,
 "nbformat_minor": 2
}
