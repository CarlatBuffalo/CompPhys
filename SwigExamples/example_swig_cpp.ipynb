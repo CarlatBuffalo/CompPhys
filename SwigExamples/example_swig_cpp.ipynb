{
 "cells": [
  {
   "cell_type": "markdown",
   "metadata": {},
   "source": [
    "# Example of using C++ code in Jupyter with the cpt package\n",
    "\n",
    "It is also possible to use our C++ code from python and Jupyter. This involves using the [SWIG](http://www.swig.org) package. You can download it [here](http://www.swig.org/survey.html) and then install following instructions [here](http://www.swig.org/Doc3.0/Preface.html#Preface_installation). If you are successful, you should be able to open a new terminal and type ```which swig``` to obtain the path of swig. \n",
    "\n",
    "The idea is then to use SWIG to automatically generate python-readable code from our \"cpt\" C++/C libraries. There is a lot to learn in this regard, so we will try first with a simple example that illustrates some concepts we will need, such as using STL libraries and C++11 compilation. \n"
   ]
  },
  {
   "cell_type": "markdown",
   "metadata": {},
   "source": [
    "\n",
    "## Step 1 : Simple example compilation in Terminal\n",
    "\n",
    "You should be able to see these two simple files: \n",
    "\n",
    "#### example.hpp\n",
    "\n",
    "```cpp\n",
    "#ifndef EXAMPLE_HPP\n",
    "#define EXAMPLE_HPP\n",
    "\n",
    "#include <vector>\n",
    "\n",
    "// Declare your function normally\n",
    "int sum_int(std::vector<int> const & vec);\n",
    "\n",
    "#endif // EXAMPLE_HPP\n",
    "```\n",
    "\n",
    "#### example.cpp\n",
    "```cpp\n",
    "#include \"example.hpp\"\n",
    "\n",
    "// Define your function as you need.\n",
    "int sum_int(std::vector<int> const & vec)\n",
    "{\n",
    "  int sum = 0;\n",
    "  for ( auto i : vec ) {\n",
    "    sum += i;\n",
    "  }\n",
    "  return sum;\n",
    "}\n",
    "```\n",
    "\n",
    "Notice that there are several advanced features here, including a range-based for loop and the use of ```std::vector```. This simply sums the elements in the loop and returns it. \n",
    "\n",
    "\n",
    "### Compile them yourself to get an object file:  \n",
    "\n",
    "```\n",
    "g++ --std=c++11 -c example.cpp\n",
    "```\n",
    "\n",
    "\n",
    "You should see \"example.o\" in your directory. \n"
   ]
  },
  {
   "cell_type": "markdown",
   "metadata": {},
   "source": [
    "\n",
    "\n",
    "## Step 2: Creation of SWIG interface file in Terminal \n",
    "\n",
    "The magic of SWIG is to create wrapper C++ functions that use the \"cython\" interface. You will see an \"interface\" file for SWIG: \n",
    "\n",
    "#### example.i\n",
    "```swig\n",
    "%module example\n",
    "/* First: Include your own code.*/\n",
    "%{\n",
    "#define SWIG_FILE_WITH_INIT\n",
    "#include \"example.hpp\"\n",
    "%}\n",
    "/* Next: declare the functions you want to use.*/\n",
    "int sum_int(std::vector<int> const & vec);\n",
    "\n",
    "/* Finally: include any other libraries and types you need. \n",
    "Yes, you need one type per class, so that means one type per\n",
    "template instance.*/\n",
    "\n",
    "\n",
    "%include \"std_vector.i\"\n",
    "\n",
    "namespace std {\n",
    "   %template(vector_int) vector<int>;\n",
    "};\n",
    "```\n",
    "\n",
    "\n",
    "This tells SWIG to import the function ```sum_int``` from the file ```example.hpp```. It also tells SWIG how to use the ```std::vector``` inside of python. \n",
    "\n",
    "**IMPORTANT NOTE:** The name you give to the ```std::vector<int>``` is ```vector_int```. This is an alias for the C++ class ```std::vector<int>```, and you are picking the name yourself. The reason this must be done instead of using a python ```list``` object is because python does not have a \"native\" notion of ```std::vector<int>```. It can convert python lists to C++ arrays, but not to ```std::vector```. To make it more transparent, you could copy the elements into a python list, but that is expensive computationally. You could also convert the ```std::vector``` to a C++ array inside your C++ code, in which case you need not use this. However, for performant usage of ```std::vector``` in python with SWIG, stick to using the implementation from ```std_vector.i```. \n",
    "\n",
    "\n",
    "To create the SWIG-generated C++ file, you also need to tell SWIG what to do with the ```setup.py``` file here:\n",
    "\n",
    "#### setup.py\n",
    "```python\n",
    "#!/usr/bin/env python\n",
    "\n",
    "\"\"\"\n",
    "setup.py file for SWIG example\n",
    "\"\"\"\n",
    "\n",
    "from distutils.core import setup, Extension\n",
    "\n",
    "\n",
    "example_module = Extension('_example',\n",
    "                           sources=['example_wrap.cxx', 'example.cpp'],\n",
    "                           extra_compile_args=[\"-std=c++11\"],\n",
    "                           )\n",
    "\n",
    "setup (name = 'example',\n",
    "       version = '0.1',\n",
    "       author      = \"SWIG Docs\",\n",
    "       description = \"\"\"Simple swig example from docs\"\"\",\n",
    "       ext_modules = [example_module],\n",
    "       py_modules = [\"example\"],\n",
    "       )\n",
    "```\n",
    "\n",
    "\n",
    "This tells SWIG to generate a file called ```example_wrap.cc``` using source from ```example.cpp``` with C++11. \n",
    "\n",
    "### To run this, you do:\n",
    "\n",
    "```\n",
    "swig -c++ -python example.i \n",
    "```\n",
    "\n",
    "\n",
    "This will create two files, ```example_wrap.cxx``` and ```example.py```. They are not intended to be human-readable, so we don't need to look into them. \n",
    "\n",
    "### Next, we execute \n",
    "\n",
    "```\n",
    "python setup.py build_ext --inplace\n",
    "```\n",
    "\n",
    "This will compile our file ```example.cpp``` along with ```example_wrap.cxx``` using the rules we set (for instance, using the C++11 compiler). \n",
    "\n",
    "We are now free to use this in python!\n",
    "\n",
    " "
   ]
  },
  {
   "cell_type": "markdown",
   "metadata": {},
   "source": [
    "\n",
    "## Step 3: Make profit: \n",
    "\n",
    "First we import the path correctly (we started in our PHY410/jupyter path in this notebook), and check that the path was right."
   ]
  },
  {
   "cell_type": "code",
   "execution_count": 3,
   "metadata": {},
   "outputs": [
    {
     "name": "stdout",
     "output_type": "stream",
     "text": [
      "['', '/Library/Python/2.7/site-packages', '/System/Library/Frameworks/Python.framework/Versions/2.7/lib/python27.zip', '/System/Library/Frameworks/Python.framework/Versions/2.7/lib/python2.7', '/System/Library/Frameworks/Python.framework/Versions/2.7/lib/python2.7/plat-darwin', '/System/Library/Frameworks/Python.framework/Versions/2.7/lib/python2.7/plat-mac', '/System/Library/Frameworks/Python.framework/Versions/2.7/lib/python2.7/plat-mac/lib-scriptpackages', '/System/Library/Frameworks/Python.framework/Versions/2.7/lib/python2.7/lib-tk', '/System/Library/Frameworks/Python.framework/Versions/2.7/lib/python2.7/lib-old', '/System/Library/Frameworks/Python.framework/Versions/2.7/lib/python2.7/lib-dynload', '/Users/rappoccio/Library/Python/2.7/lib/python/site-packages', '/Library/Python/2.7/site-packages', '/System/Library/Frameworks/Python.framework/Versions/2.7/Extras/lib/python', '/System/Library/Frameworks/Python.framework/Versions/2.7/Extras/lib/python/PyObjC', '/Library/Python/2.7/site-packages/IPython/extensions', '/Users/rappoccio/.ipython', '/Users/rappoccio/Library/Mobile Documents/com~apple~CloudDocs/shared_icloud/PHY410/jupyter/swig_example']\n"
     ]
    }
   ],
   "source": [
    "import sys\n",
    "import os\n",
    "\n",
    "sys.path.append( os.path.abspath(\"swig_example\") )\n",
    "\n",
    "print sys.path\n",
    "\n",
    "\n"
   ]
  },
  {
   "cell_type": "markdown",
   "metadata": {},
   "source": [
    "Next we import our actual function from \"example.py\""
   ]
  },
  {
   "cell_type": "code",
   "execution_count": 6,
   "metadata": {
    "collapsed": true
   },
   "outputs": [],
   "source": [
    "from example import *\n"
   ]
  },
  {
   "cell_type": "markdown",
   "metadata": {},
   "source": [
    "And finally, we can use our code: "
   ]
  },
  {
   "cell_type": "code",
   "execution_count": 7,
   "metadata": {},
   "outputs": [
    {
     "name": "stdout",
     "output_type": "stream",
     "text": [
      "6\n"
     ]
    }
   ],
   "source": [
    "a = vector_int([1,2,3])\n",
    "x = sum_int(a)\n",
    "print x\n"
   ]
  },
  {
   "cell_type": "markdown",
   "metadata": {},
   "source": [
    "### Success!"
   ]
  },
  {
   "cell_type": "code",
   "execution_count": null,
   "metadata": {
    "collapsed": true
   },
   "outputs": [],
   "source": []
  }
 ],
 "metadata": {
  "kernelspec": {
   "display_name": "Python 2",
   "language": "python",
   "name": "python2"
  },
  "language_info": {
   "codemirror_mode": {
    "name": "ipython",
    "version": 2
   },
   "file_extension": ".py",
   "mimetype": "text/x-python",
   "name": "python",
   "nbconvert_exporter": "python",
   "pygments_lexer": "ipython2",
   "version": "2.7.13"
  }
 },
 "nbformat": 4,
 "nbformat_minor": 2
}
